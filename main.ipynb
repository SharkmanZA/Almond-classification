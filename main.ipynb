{
 "cells": [
  {
   "cell_type": "code",
   "execution_count": 1,
   "metadata": {},
   "outputs": [],
   "source": [
    "# Jake Mileham\n",
    "# U21692492\n",
    "# COS 781 A2"
   ]
  },
  {
   "cell_type": "code",
   "execution_count": 10,
   "metadata": {},
   "outputs": [],
   "source": [
    "# =============================\n",
    "# imports\n",
    "#==============================\n",
    "\n",
    "import pandas as pd\n",
    "import torch as tch\n",
    "import torch.nn as nn\n",
    "import torch.optim as optim\n",
    "from sklearn.impute import SimpleImputer"
   ]
  },
  {
   "cell_type": "code",
   "execution_count": 21,
   "metadata": {},
   "outputs": [],
   "source": [
    "# =============================\n",
    "# Data preprocessing\n",
    "# =============================\n",
    "df = pd.read_csv(\"Almond.csv\")\n",
    "df_copy = df.copy()\n",
    "\n",
    "# Label encode Almond class\n",
    "\n",
    "# MAMRA   = 0\n",
    "# SANORA  = 1\n",
    "# REGULAR = 2\n",
    "\n",
    "df_copy[\"Type\"] = df_copy[\"Type\"].map(lambda type : 0 if type == \"MAMRA\" else 1 if type == \"SANORA\" else 2)\n",
    "\n",
    "# Extract class data\n",
    "df_class = df_copy[\"Type\"]\n",
    "\n",
    "# Remove features with high amount of missing values\n",
    "# print(df_copy.isnull().sum())\n",
    "df_copy.drop(columns=[\"Unnamed: 0\", \"Type\", \"Aspect Ratio\", \"Eccentricity\"], inplace=True)\n",
    "\n",
    "# df_copy.head()\n",
    "\n",
    "# Replace missing values by almond class\n",
    "#TODO: Look into computing mean by class of Almond\n",
    "\n",
    "imputer = SimpleImputer(missing_values=pd.NA, strategy=\"mean\")\n",
    "data = imputer.fit_transform(df_copy)\n"
   ]
  },
  {
   "cell_type": "code",
   "execution_count": 38,
   "metadata": {},
   "outputs": [],
   "source": [
    "# =============================\n",
    "# Neural Net\n",
    "# =============================\n",
    "\n",
    "# 10 features excluding Aspect Ratio and Eccentricity\n",
    "\n",
    "features = tch.tensor(data, dtype=tch.float32)\n",
    "classes = tch.tensor(df_class, dtype=tch.float32).reshape(-1, 1)\n",
    "\n",
    "class NeuralNetwork(nn.Module):\n",
    "    def __init__(self):\n",
    "        super(NeuralNetwork, self).__init__()\n",
    "\n",
    "        self.layers = nn.Sequential(\n",
    "            # Hidden Layer expectes 10 input features\n",
    "            nn.Linear(10,10),\n",
    "            nn.ReLU(),\n",
    "            # Output layer\n",
    "            nn.Linear(10,1),\n",
    "            nn.Softmax()  \n",
    "        )\n",
    "        \n",
    "\n",
    "    def forward(self, data):\n",
    "        return self.layers(data)\n",
    "\n",
    "\n",
    "network = NeuralNetwork()\n",
    "loss_func = nn.CrossEntropyLoss()\n",
    "\n",
    "# We need to test optimizers, but use this as a start\n",
    "optimiser = optim.Adam(network.parameters(), lr=0.001)\n",
    "\n",
    "epochs = 100\n",
    "\n",
    "for epoch in range(epochs):\n",
    "    prediction = network(features)\n",
    "    loss = loss_func(prediction, classes)\n",
    "    optimiser.zero_grad()\n",
    "    loss.backward()\n",
    "    optimiser.step()\n",
    "\n",
    "    print(f'Epoch: {epoch}, Current Loss: {loss}')\n",
    "\n",
    "prediction = network(features)\n",
    "accuracy = (prediction.round() == classes).float().mean()\n",
    "print(f\"Accuracy: {accuracy}\")"
   ]
  }
 ],
 "metadata": {
  "kernelspec": {
   "display_name": "venv",
   "language": "python",
   "name": "python3"
  },
  "language_info": {
   "codemirror_mode": {
    "name": "ipython",
    "version": 3
   },
   "file_extension": ".py",
   "mimetype": "text/x-python",
   "name": "python",
   "nbconvert_exporter": "python",
   "pygments_lexer": "ipython3",
   "version": "3.12.5"
  }
 },
 "nbformat": 4,
 "nbformat_minor": 2
}
